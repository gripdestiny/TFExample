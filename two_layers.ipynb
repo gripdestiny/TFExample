{
 "metadata": {
  "name": "",
  "signature": "sha256:cbd381128270851757ee2fc2183589c6907e3349ba614c8d99600d92e2becf99"
 },
 "nbformat": 3,
 "nbformat_minor": 0,
 "worksheets": [
  {
   "cells": [
    {
     "cell_type": "code",
     "collapsed": false,
     "input": [
      "import tensorflow as tf\n",
      "import numpy as np\n",
      "import os\n",
      "import pickle\n",
      "import matplotlib.pyplot as plt\n",
      "%matplotlib inline"
     ],
     "language": "python",
     "metadata": {},
     "outputs": [],
     "prompt_number": 71
    },
    {
     "cell_type": "code",
     "collapsed": false,
     "input": [
      "#\u6458\u81eaCS231n\u8bfe\u7a0b\u4f5c\u4e1a\uff0c\u53c2\u8003cifar10\u5b98\u7f51\u505a\u51fa\u5c0f\u4fee\u6539\n",
      "def load_CIFAR_batch(filename):\n",
      "  \"\"\" load single batch of cifar \"\"\"\n",
      "  with open(filename, 'rb') as f:\n",
      "    datadict = pickle.load(f, encoding='bytes')#\u6dfb\u52a0encoding='bytes'\n",
      "    #print(datadict.keys())\n",
      "    X = datadict[b'data']#\u6dfb\u52a0b\n",
      "    Y = datadict[b'labels']#\u6dfb\u52a0b\n",
      "    X = X.reshape(10000, 3, 32, 32).transpose(0,2,3,1).astype(\"float\")\n",
      "    Y = np.array(Y)\n",
      "    return X, Y\n",
      "\n",
      "def load_CIFAR10(ROOT):\n",
      "  \"\"\" load all of cifar \"\"\"\n",
      "  xs = []\n",
      "  ys = []\n",
      "  for b in range(1,6):\n",
      "    f = os.path.join(ROOT, 'data_batch_{}'.format(str(b)))\n",
      "    #print(f)\n",
      "    X, Y = load_CIFAR_batch(f)\n",
      "    xs.append(X)\n",
      "    ys.append(Y)    \n",
      "  Xtr = np.concatenate(xs)\n",
      "  Ytr = np.concatenate(ys)\n",
      "  del X, Y\n",
      "  Xte, Yte = load_CIFAR_batch(os.path.join(ROOT, 'test_batch'))\n",
      "  return Xtr, Ytr, Xte, Yte"
     ],
     "language": "python",
     "metadata": {},
     "outputs": [],
     "prompt_number": 72
    },
    {
     "cell_type": "code",
     "collapsed": false,
     "input": [
      "cifar10_dir = 'datasets/cifar-10-batches-py'\n",
      "X_train,y_train,X_test,y_test = load_CIFAR10(cifar10_dir)\n",
      "print(X_train.shape)\n",
      "print(y_train.shape)\n",
      "print(X_test.shape)\n",
      "print(y_test.shape)\n",
      "X_train /= 255.\n",
      "X_test /= 255."
     ],
     "language": "python",
     "metadata": {},
     "outputs": [
      {
       "output_type": "stream",
       "stream": "stdout",
       "text": [
        "(50000, 32, 32, 3)\n",
        "(50000,)\n",
        "(10000, 32, 32, 3)\n",
        "(10000,)\n"
       ]
      }
     ],
     "prompt_number": 73
    },
    {
     "cell_type": "code",
     "collapsed": false,
     "input": [
      "#\u5c06label\u8f6c\u6210one-hot vector\n",
      "def one_hot(input_labes):\n",
      "    out_labels=[]\n",
      "    for i in range(len(input_labes)):\n",
      "        label = 10*[0]\n",
      "        label[input_labes[i]]=1\n",
      "        out_labels.append(label)\n",
      "    return np.array(out_labels)\n",
      "y_train_onehot = one_hot(y_train)\n",
      "y_test_onehot = one_hot(y_test)"
     ],
     "language": "python",
     "metadata": {},
     "outputs": [],
     "prompt_number": 74
    },
    {
     "cell_type": "code",
     "collapsed": false,
     "input": [
      "#\u5b9a\u4e49\u5360\u4f4d\u7b26\u548c\u76f8\u5173\u53c2\u6570\n",
      "\n",
      "X_train = np.reshape(X_train,(X_train.shape[0],-1))\n",
      "X_test = np.reshape(X_test,(X_test.shape[0],-1))\n",
      "\n",
      "batchsize = 500\n",
      "X_input = tf.placeholder(tf.float32,shape=[None,32*32*3])\n",
      "Y_label = tf.placeholder(tf.float32,shape=[None,10])\n",
      "print(X_train.shape)\n",
      "\n",
      "print(X_test.shape)\n"
     ],
     "language": "python",
     "metadata": {},
     "outputs": [
      {
       "output_type": "stream",
       "stream": "stdout",
       "text": [
        "(50000, 3072)\n",
        "(10000, 3072)\n"
       ]
      }
     ],
     "prompt_number": 75
    },
    {
     "cell_type": "code",
     "collapsed": false,
     "input": [
      "#\n",
      "W1 = tf.Variable(tf.truncated_normal(shape=[32*32*3,64],stddev=0.1))\n",
      "b1 = tf.Variable(tf.constant(0.1,shape=[64]))\n",
      "\n",
      "W2 = tf.Variable(tf.truncated_normal(shape=[64,10],stddev=0.1))\n",
      "b2 = tf.Variable(tf.constant(0.1,shape=[10]))\n",
      "\n",
      "fc1 = tf.nn.relu(tf.matmul(X_input,W1)+b1)\n",
      "\n",
      "fc2 = tf.nn.softmax(tf.matmul(fc1,W2)+b2)\n",
      "\n",
      "loss = tf.reduce_mean(tf.nn.softmax_cross_entropy_with_logits(labels=Y_label,logits=fc2))\n",
      "\n",
      "train_step = tf.train.GradientDescentOptimizer(0.9).minimize(loss)\n",
      "\n",
      "accuracy = tf.reduce_mean(tf.cast(tf.equal(tf.argmax(Y_label,1),tf.argmax(fc2,1)),tf.float32))"
     ],
     "language": "python",
     "metadata": {},
     "outputs": [],
     "prompt_number": 76
    },
    {
     "cell_type": "code",
     "collapsed": false,
     "input": [
      "with tf.Session() as sess:\n",
      "    init = tf.global_variables_initializer()\n",
      "    sess.run(init)\n",
      "    for i in range(50000):\n",
      "\n",
      "        #print(X_train)\n",
      "        mask = np.array(range(batchsize*i,batchsize*(i+1)))%X_train.shape[0]\n",
      "        #print(mask)\n",
      "        batch_x = X_train[mask]\n",
      "        batch_y = y_train_onehot[mask]\n",
      "\n",
      "        \n",
      "        [_,train_loss,train_accuracy] = sess.run([train_step,loss,accuracy],feed_dict={X_input:batch_x ,Y_label:batch_y })\n",
      "        \n",
      "        if i%1000 == 0:\n",
      "            print('step: {}'.format(i),end=' ')\n",
      "            print('loss:{:.5f}'.format(train_loss),end=' ')\n",
      "            print('accuracy:{:.2f}%'.format(train_accuracy*100))\n",
      "    print(sess.run(accuracy,feed_dict={X_input:X_test,Y_label:y_test_onehot}))"
     ],
     "language": "python",
     "metadata": {},
     "outputs": [
      {
       "output_type": "stream",
       "stream": "stdout",
       "text": [
        "step: 0 loss:2.30571 accuracy:10.80%\n",
        "step: 1000"
       ]
      },
      {
       "output_type": "stream",
       "stream": "stdout",
       "text": [
        " loss:2.05729 accuracy:38.40%\n",
        "step: 2000"
       ]
      },
      {
       "output_type": "stream",
       "stream": "stdout",
       "text": [
        " loss:2.02592 accuracy:43.20%\n",
        "step: 3000"
       ]
      },
      {
       "output_type": "stream",
       "stream": "stdout",
       "text": [
        " loss:1.97586 accuracy:49.20%\n",
        "step: 4000"
       ]
      },
      {
       "output_type": "stream",
       "stream": "stdout",
       "text": [
        " loss:1.95909 accuracy:50.00%\n",
        "step: 5000"
       ]
      },
      {
       "output_type": "stream",
       "stream": "stdout",
       "text": [
        " loss:1.96353 accuracy:49.60%\n",
        "step: 6000"
       ]
      },
      {
       "output_type": "stream",
       "stream": "stdout",
       "text": [
        " loss:1.93489 accuracy:53.00%\n",
        "step: 7000"
       ]
      },
      {
       "output_type": "stream",
       "stream": "stdout",
       "text": [
        " loss:1.96655 accuracy:48.80%\n",
        "step: 8000"
       ]
      },
      {
       "output_type": "stream",
       "stream": "stdout",
       "text": [
        " loss:1.91790 accuracy:54.20%\n",
        "step: 9000"
       ]
      },
      {
       "output_type": "stream",
       "stream": "stdout",
       "text": [
        " loss:1.92564 accuracy:53.20%\n",
        "step: 10000"
       ]
      },
      {
       "output_type": "stream",
       "stream": "stdout",
       "text": [
        " loss:1.88806 accuracy:57.40%\n",
        "step: 11000"
       ]
      },
      {
       "output_type": "stream",
       "stream": "stdout",
       "text": [
        " loss:1.88845 accuracy:57.40%\n",
        "step: 12000"
       ]
      },
      {
       "output_type": "stream",
       "stream": "stdout",
       "text": [
        " loss:1.87163 accuracy:59.40%\n",
        "step: 13000"
       ]
      },
      {
       "output_type": "stream",
       "stream": "stdout",
       "text": [
        " loss:1.90444 accuracy:55.20%\n",
        "step: 14000"
       ]
      },
      {
       "output_type": "stream",
       "stream": "stdout",
       "text": [
        " loss:1.87527 accuracy:58.00%\n",
        "step: 15000"
       ]
      },
      {
       "output_type": "stream",
       "stream": "stdout",
       "text": [
        " loss:1.88003 accuracy:57.80%\n",
        "step: 16000"
       ]
      },
      {
       "output_type": "stream",
       "stream": "stdout",
       "text": [
        " loss:1.87457 accuracy:59.00%\n",
        "step: 17000"
       ]
      },
      {
       "output_type": "stream",
       "stream": "stdout",
       "text": [
        " loss:1.87981 accuracy:57.80%\n",
        "step: 18000"
       ]
      },
      {
       "output_type": "stream",
       "stream": "stdout",
       "text": [
        " loss:1.89872 accuracy:56.20%\n",
        "step: 19000"
       ]
      },
      {
       "output_type": "stream",
       "stream": "stdout",
       "text": [
        " loss:1.86798 accuracy:59.60%\n",
        "step: 20000"
       ]
      },
      {
       "output_type": "stream",
       "stream": "stdout",
       "text": [
        " loss:1.83130 accuracy:63.40%\n",
        "step: 21000"
       ]
      },
      {
       "output_type": "stream",
       "stream": "stdout",
       "text": [
        " loss:1.84446 accuracy:61.20%\n",
        "step: 22000"
       ]
      },
      {
       "output_type": "stream",
       "stream": "stdout",
       "text": [
        " loss:1.84629 accuracy:62.00%\n",
        "step: 23000"
       ]
      },
      {
       "output_type": "stream",
       "stream": "stdout",
       "text": [
        " loss:1.85149 accuracy:60.80%\n",
        "step: 24000"
       ]
      },
      {
       "output_type": "stream",
       "stream": "stdout",
       "text": [
        " loss:1.85064 accuracy:61.00%\n",
        "step: 25000"
       ]
      },
      {
       "output_type": "stream",
       "stream": "stdout",
       "text": [
        " loss:1.82077 accuracy:64.60%\n",
        "step: 26000"
       ]
      },
      {
       "output_type": "stream",
       "stream": "stdout",
       "text": [
        " loss:1.81698 accuracy:64.80%\n",
        "step: 27000"
       ]
      },
      {
       "output_type": "stream",
       "stream": "stdout",
       "text": [
        " loss:1.81265 accuracy:64.20%\n",
        "step: 28000"
       ]
      },
      {
       "output_type": "stream",
       "stream": "stdout",
       "text": [
        " loss:1.83785 accuracy:62.20%\n",
        "step: 29000"
       ]
      },
      {
       "output_type": "stream",
       "stream": "stdout",
       "text": [
        " loss:1.81326 accuracy:65.20%\n",
        "step: 30000"
       ]
      },
      {
       "output_type": "stream",
       "stream": "stdout",
       "text": [
        " loss:1.82348 accuracy:63.60%\n",
        "step: 31000"
       ]
      },
      {
       "output_type": "stream",
       "stream": "stdout",
       "text": [
        " loss:1.81426 accuracy:64.60%\n",
        "step: 32000"
       ]
      },
      {
       "output_type": "stream",
       "stream": "stdout",
       "text": [
        " loss:1.81518 accuracy:64.40%\n",
        "step: 33000"
       ]
      },
      {
       "output_type": "stream",
       "stream": "stdout",
       "text": [
        " loss:1.80370 accuracy:65.60%\n",
        "step: 34000"
       ]
      },
      {
       "output_type": "stream",
       "stream": "stdout",
       "text": [
        " loss:1.83955 accuracy:62.60%\n",
        "step: 35000"
       ]
      },
      {
       "output_type": "stream",
       "stream": "stdout",
       "text": [
        " loss:1.81471 accuracy:64.60%\n",
        "step: 36000"
       ]
      },
      {
       "output_type": "stream",
       "stream": "stdout",
       "text": [
        " loss:1.79504 accuracy:66.40%\n",
        "step: 37000"
       ]
      },
      {
       "output_type": "stream",
       "stream": "stdout",
       "text": [
        " loss:1.78884 accuracy:66.80%\n",
        "step: 38000"
       ]
      },
      {
       "output_type": "stream",
       "stream": "stdout",
       "text": [
        " loss:1.79924 accuracy:66.20%\n",
        "step: 39000"
       ]
      },
      {
       "output_type": "stream",
       "stream": "stdout",
       "text": [
        " loss:1.86607 accuracy:59.20%\n",
        "step: 40000"
       ]
      },
      {
       "output_type": "stream",
       "stream": "stdout",
       "text": [
        " loss:1.81550 accuracy:64.40%\n",
        "step: 41000"
       ]
      },
      {
       "output_type": "stream",
       "stream": "stdout",
       "text": [
        " loss:1.81517 accuracy:64.00%\n",
        "step: 42000"
       ]
      },
      {
       "output_type": "stream",
       "stream": "stdout",
       "text": [
        " loss:1.85176 accuracy:61.20%\n",
        "step: 43000"
       ]
      },
      {
       "output_type": "stream",
       "stream": "stdout",
       "text": [
        " loss:1.84791 accuracy:61.20%\n",
        "step: 44000"
       ]
      },
      {
       "output_type": "stream",
       "stream": "stdout",
       "text": [
        " loss:1.78596 accuracy:68.00%\n",
        "step: 45000"
       ]
      },
      {
       "output_type": "stream",
       "stream": "stdout",
       "text": [
        " loss:1.79038 accuracy:67.20%\n",
        "step: 46000"
       ]
      },
      {
       "output_type": "stream",
       "stream": "stdout",
       "text": [
        " loss:1.80054 accuracy:65.60%\n",
        "step: 47000"
       ]
      },
      {
       "output_type": "stream",
       "stream": "stdout",
       "text": [
        " loss:1.80484 accuracy:66.00%\n",
        "step: 48000"
       ]
      },
      {
       "output_type": "stream",
       "stream": "stdout",
       "text": [
        " loss:1.78640 accuracy:67.40%\n",
        "step: 49000"
       ]
      },
      {
       "output_type": "stream",
       "stream": "stdout",
       "text": [
        " loss:1.80268 accuracy:65.80%\n",
        "0.4853"
       ]
      },
      {
       "output_type": "stream",
       "stream": "stdout",
       "text": [
        "\n"
       ]
      }
     ],
     "prompt_number": 77
    },
    {
     "cell_type": "code",
     "collapsed": false,
     "input": [
      "idx = []\n",
      "train_loss =[]\n",
      "with tf.Session() as sess:\n",
      "    init = tf.global_variables_initializer()\n",
      "    sess.run(init)\n",
      "    for i in range(25000):\n",
      "\n",
      "        #print(X_train)\n",
      "        mask = np.random.choice(X_train.shape[0],batchsize,replace=False)\n",
      "        #print(mask)\n",
      "        batch_x = X_train[mask]\n",
      "        batch_y = y_train_onehot[mask]\n",
      "\n",
      "        \n",
      "        [_,temp_loss,train_accuracy] = sess.run([train_step,loss,accuracy],feed_dict={X_input:batch_x ,Y_label:batch_y })\n",
      "        \n",
      "        if i%1000 == 0:\n",
      "            idx.append(i)\n",
      "            train_loss.append(temp_loss)\n",
      "            print('step: {}'.format(i),end=' ')\n",
      "            print('loss:{:.5f}'.format(temp_loss),end=' ')\n",
      "            print('accuracy:{:.2f}%'.format(train_accuracy*100))\n",
      "    print(sess.run(accuracy,feed_dict={X_input:X_test,Y_label:y_test_onehot}))\n",
      "\n"
     ],
     "language": "python",
     "metadata": {},
     "outputs": [
      {
       "output_type": "stream",
       "stream": "stdout",
       "text": [
        "step: 0 loss:2.31959 accuracy:9.20%\n",
        "step: 1000"
       ]
      },
      {
       "output_type": "stream",
       "stream": "stdout",
       "text": [
        " loss:2.04413 accuracy:41.20%\n",
        "step: 2000"
       ]
      },
      {
       "output_type": "stream",
       "stream": "stdout",
       "text": [
        " loss:2.02248 accuracy:43.80%\n",
        "step: 3000"
       ]
      },
      {
       "output_type": "stream",
       "stream": "stdout",
       "text": [
        " loss:2.01735 accuracy:43.80%\n",
        "step: 4000"
       ]
      },
      {
       "output_type": "stream",
       "stream": "stdout",
       "text": [
        " loss:1.99490 accuracy:45.80%\n",
        "step: 5000"
       ]
      },
      {
       "output_type": "stream",
       "stream": "stdout",
       "text": [
        " loss:1.96966 accuracy:48.80%\n",
        "step: 6000"
       ]
      },
      {
       "output_type": "stream",
       "stream": "stdout",
       "text": [
        " loss:1.91956 accuracy:53.20%\n",
        "step: 7000"
       ]
      },
      {
       "output_type": "stream",
       "stream": "stdout",
       "text": [
        " loss:1.93422 accuracy:52.20%\n",
        "step: 8000"
       ]
      },
      {
       "output_type": "stream",
       "stream": "stdout",
       "text": [
        " loss:1.89788 accuracy:56.00%\n",
        "step: 9000"
       ]
      },
      {
       "output_type": "stream",
       "stream": "stdout",
       "text": [
        " loss:1.91766 accuracy:54.60%\n",
        "step: 10000"
       ]
      },
      {
       "output_type": "stream",
       "stream": "stdout",
       "text": [
        " loss:1.85380 accuracy:60.00%\n",
        "step: 11000"
       ]
      },
      {
       "output_type": "stream",
       "stream": "stdout",
       "text": [
        " loss:1.89533 accuracy:55.60%\n",
        "step: 12000"
       ]
      },
      {
       "output_type": "stream",
       "stream": "stdout",
       "text": [
        " loss:1.90265 accuracy:55.80%\n",
        "step: 13000"
       ]
      },
      {
       "output_type": "stream",
       "stream": "stdout",
       "text": [
        " loss:1.88412 accuracy:57.60%\n",
        "step: 14000"
       ]
      },
      {
       "output_type": "stream",
       "stream": "stdout",
       "text": [
        " loss:1.90370 accuracy:55.40%\n",
        "step: 15000"
       ]
      },
      {
       "output_type": "stream",
       "stream": "stdout",
       "text": [
        " loss:1.83126 accuracy:62.80%\n",
        "step: 16000"
       ]
      },
      {
       "output_type": "stream",
       "stream": "stdout",
       "text": [
        " loss:1.86275 accuracy:59.40%\n",
        "step: 17000"
       ]
      },
      {
       "output_type": "stream",
       "stream": "stdout",
       "text": [
        " loss:1.89648 accuracy:56.20%\n",
        "step: 18000"
       ]
      },
      {
       "output_type": "stream",
       "stream": "stdout",
       "text": [
        " loss:1.86557 accuracy:59.60%\n",
        "step: 19000"
       ]
      },
      {
       "output_type": "stream",
       "stream": "stdout",
       "text": [
        " loss:1.83339 accuracy:63.20%\n",
        "step: 20000"
       ]
      },
      {
       "output_type": "stream",
       "stream": "stdout",
       "text": [
        " loss:1.90510 accuracy:55.20%\n",
        "step: 21000"
       ]
      },
      {
       "output_type": "stream",
       "stream": "stdout",
       "text": [
        " loss:1.86251 accuracy:59.60%\n",
        "step: 22000"
       ]
      },
      {
       "output_type": "stream",
       "stream": "stdout",
       "text": [
        " loss:1.84464 accuracy:61.00%\n",
        "step: 23000"
       ]
      },
      {
       "output_type": "stream",
       "stream": "stdout",
       "text": [
        " loss:1.86481 accuracy:59.80%\n",
        "step: 24000"
       ]
      },
      {
       "output_type": "stream",
       "stream": "stdout",
       "text": [
        " loss:1.83832 accuracy:62.40%\n",
        "0.4829"
       ]
      },
      {
       "output_type": "stream",
       "stream": "stdout",
       "text": [
        "\n"
       ]
      }
     ],
     "prompt_number": 80
    },
    {
     "cell_type": "code",
     "collapsed": false,
     "input": [
      "plt.plot(idx,train_loss)\n",
      "plt.xlabel('Iteration')\n",
      "plt.ylabel('loss')"
     ],
     "language": "python",
     "metadata": {},
     "outputs": [
      {
       "metadata": {},
       "output_type": "pyout",
       "prompt_number": 82,
       "text": [
        "Text(0,0.5,'loss')"
       ]
      },
      {
       "metadata": {},
       "output_type": "display_data",
       "png": "[encoded data removed]",
       "text": [
        "<matplotlib.figure.Figure at 0x7fe88e4d1860>"
       ]
      }
     ],
     "prompt_number": 82
    },
    {
     "cell_type": "code",
     "collapsed": false,
     "input": [
      "#\u4f7f\u7528dropout\n",
      "dropout = tf.placeholder(tf.float32)\n",
      "W1 = tf.Variable(tf.truncated_normal(shape=[32*32*3,64],stddev=0.1))\n",
      "b1 = tf.Variable(tf.constant(0.1,shape=[64]))\n",
      "\n",
      "W2 = tf.Variable(tf.truncated_normal(shape=[64,10],stddev=0.1))\n",
      "b2 = tf.Variable(tf.constant(0.1,shape=[10]))\n",
      "\n",
      "fc1 = tf.nn.relu(tf.matmul(X_input,W1)+b1)\n",
      "fc1 = tf.nn.dropout(fc1,dropout)\n",
      "fc2 = tf.nn.softmax(tf.matmul(fc1,W2)+b2)\n",
      "\n",
      "loss = tf.reduce_mean(tf.nn.softmax_cross_entropy_with_logits(labels=Y_label,logits=fc2))\n",
      "\n",
      "train_step = tf.train.AdamOptimizer(1e-3).minimize(loss)\n",
      "\n",
      "accuracy = tf.reduce_mean(tf.cast(tf.equal(tf.argmax(Y_label,1),tf.argmax(fc2,1)),tf.float32))"
     ],
     "language": "python",
     "metadata": {},
     "outputs": [],
     "prompt_number": 91
    },
    {
     "cell_type": "code",
     "collapsed": false,
     "input": [
      "idx = []\n",
      "train_loss =[]\n",
      "with tf.Session() as sess:\n",
      "    init = tf.global_variables_initializer()\n",
      "    sess.run(init)\n",
      "    for i in range(25000):\n",
      "\n",
      "        #print(X_train)\n",
      "        mask = np.random.choice(X_train.shape[0],batchsize,replace=False)\n",
      "        #print(mask)\n",
      "        batch_x = X_train[mask]\n",
      "        batch_y = y_train_onehot[mask]\n",
      "\n",
      "        \n",
      "        [_,temp_loss,train_accuracy] = sess.run([train_step,loss,accuracy],feed_dict={X_input:batch_x ,Y_label:batch_y,dropout:0.5 })\n",
      "        \n",
      "        if i%1000 == 0:\n",
      "            idx.append(i)\n",
      "            train_loss.append(temp_loss)\n",
      "            print('step: {}'.format(i),end=' ')\n",
      "            print('loss:{:.5f}'.format(temp_loss),end=' ')\n",
      "            print('accuracy:{:.2f}%'.format(train_accuracy*100))\n",
      "    print(sess.run(accuracy,feed_dict={X_input:X_test,Y_label:y_test_onehot,dropout:1.0}))"
     ],
     "language": "python",
     "metadata": {},
     "outputs": [
      {
       "output_type": "stream",
       "stream": "stdout",
       "text": [
        "step: 0 loss:2.32537 accuracy:9.20%\n",
        "step: 1000"
       ]
      },
      {
       "output_type": "stream",
       "stream": "stdout",
       "text": [
        " loss:2.11035 accuracy:34.40%\n",
        "step: 2000"
       ]
      },
      {
       "output_type": "stream",
       "stream": "stdout",
       "text": [
        " loss:2.09636 accuracy:35.20%\n",
        "step: 3000"
       ]
      },
      {
       "output_type": "stream",
       "stream": "stdout",
       "text": [
        " loss:2.06286 accuracy:40.00%\n",
        "step: 4000"
       ]
      },
      {
       "output_type": "stream",
       "stream": "stdout",
       "text": [
        " loss:2.06854 accuracy:37.60%\n",
        "step: 5000"
       ]
      },
      {
       "output_type": "stream",
       "stream": "stdout",
       "text": [
        " loss:2.07793 accuracy:37.60%\n",
        "step: 6000"
       ]
      },
      {
       "output_type": "stream",
       "stream": "stdout",
       "text": [
        " loss:2.04180 accuracy:41.20%\n",
        "step: 7000"
       ]
      },
      {
       "output_type": "stream",
       "stream": "stdout",
       "text": [
        " loss:2.03474 accuracy:42.20%\n",
        "step: 8000"
       ]
      },
      {
       "output_type": "stream",
       "stream": "stdout",
       "text": [
        " loss:2.08732 accuracy:36.40%\n",
        "step: 9000"
       ]
      },
      {
       "output_type": "stream",
       "stream": "stdout",
       "text": [
        " loss:2.10176 accuracy:35.20%\n",
        "step: 10000"
       ]
      },
      {
       "output_type": "stream",
       "stream": "stdout",
       "text": [
        " loss:2.05421 accuracy:40.20%\n",
        "step: 11000"
       ]
      },
      {
       "output_type": "stream",
       "stream": "stdout",
       "text": [
        " loss:2.05838 accuracy:39.80%\n",
        "step: 12000"
       ]
      },
      {
       "output_type": "stream",
       "stream": "stdout",
       "text": [
        " loss:2.05742 accuracy:39.60%\n",
        "step: 13000"
       ]
      },
      {
       "output_type": "stream",
       "stream": "stdout",
       "text": [
        " loss:2.04625 accuracy:41.40%\n",
        "step: 14000"
       ]
      },
      {
       "output_type": "stream",
       "stream": "stdout",
       "text": [
        " loss:2.02881 accuracy:42.60%\n",
        "step: 15000"
       ]
      },
      {
       "output_type": "stream",
       "stream": "stdout",
       "text": [
        " loss:2.07726 accuracy:37.00%\n",
        "step: 16000"
       ]
      },
      {
       "output_type": "stream",
       "stream": "stdout",
       "text": [
        " loss:2.06870 accuracy:38.60%\n",
        "step: 17000"
       ]
      },
      {
       "output_type": "stream",
       "stream": "stdout",
       "text": [
        " loss:2.01461 accuracy:44.20%\n",
        "step: 18000"
       ]
      },
      {
       "output_type": "stream",
       "stream": "stdout",
       "text": [
        " loss:2.08936 accuracy:37.00%\n",
        "step: 19000"
       ]
      },
      {
       "output_type": "stream",
       "stream": "stdout",
       "text": [
        " loss:2.07360 accuracy:38.00%\n",
        "step: 20000"
       ]
      },
      {
       "output_type": "stream",
       "stream": "stdout",
       "text": [
        " loss:2.02226 accuracy:43.80%\n",
        "step: 21000"
       ]
      },
      {
       "output_type": "stream",
       "stream": "stdout",
       "text": [
        " loss:2.04730 accuracy:40.60%\n",
        "step: 22000"
       ]
      },
      {
       "output_type": "stream",
       "stream": "stdout",
       "text": [
        " loss:2.03947 accuracy:41.40%\n",
        "step: 23000"
       ]
      },
      {
       "output_type": "stream",
       "stream": "stdout",
       "text": [
        " loss:2.06207 accuracy:39.60%\n",
        "step: 24000"
       ]
      },
      {
       "output_type": "stream",
       "stream": "stdout",
       "text": [
        " loss:2.02784 accuracy:42.00%\n",
        "0.4415"
       ]
      },
      {
       "output_type": "stream",
       "stream": "stdout",
       "text": [
        "\n"
       ]
      }
     ],
     "prompt_number": 92
    },
    {
     "cell_type": "code",
     "collapsed": false,
     "input": [
      "plt.plot(idx,train_loss)\n",
      "plt.xlabel('Iteration')\n",
      "plt.ylabel('loss')"
     ],
     "language": "python",
     "metadata": {},
     "outputs": [
      {
       "metadata": {},
       "output_type": "pyout",
       "prompt_number": 93,
       "text": [
        "Text(0,0.5,'loss')"
       ]
      },
      {
       "metadata": {},
       "output_type": "display_data",
       "png": "[encoded data removed]",
       "text": [
        "<matplotlib.figure.Figure at 0x7fe8dc07e2e8>"
       ]
      }
     ],
     "prompt_number": 93
    },
    {
     "cell_type": "code",
     "collapsed": false,
     "input": [],
     "language": "python",
     "metadata": {},
     "outputs": []
    }
   ],
   "metadata": {}
  }
 ]
}