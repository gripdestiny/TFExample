{
 "metadata": {
  "name": "",
  "signature": "sha256:a17cf1d8b497437eb4b9807ae79c84e690edb087e03b05694b8c1d8858bacd37"
 },
 "nbformat": 3,
 "nbformat_minor": 0,
 "worksheets": [
  {
   "cells": [
    {
     "cell_type": "code",
     "collapsed": false,
     "input": [
      "import tensorflow as tf\n",
      "import numpy as np\n",
      "import os\n",
      "import pickle\n",
      "import matplotlib.pyplot as plt\n",
      "%matplotlib inline"
     ],
     "language": "python",
     "metadata": {},
     "outputs": [],
     "prompt_number": 1
    },
    {
     "cell_type": "code",
     "collapsed": false,
     "input": [
      "#\u6458\u81eaCS231n\u8bfe\u7a0b\u4f5c\u4e1a\uff0c\u53c2\u8003cifar10\u5b98\u7f51\u505a\u51fa\u5c0f\u4fee\u6539\n",
      "def load_CIFAR_batch(filename):\n",
      "  \"\"\" load single batch of cifar \"\"\"\n",
      "  with open(filename, 'rb') as f:\n",
      "    datadict = pickle.load(f, encoding='bytes')#\u6dfb\u52a0encoding='bytes'\n",
      "    #print(datadict.keys())\n",
      "    X = datadict[b'data']#\u6dfb\u52a0b\n",
      "    Y = datadict[b'labels']#\u6dfb\u52a0b\n",
      "    X = X.reshape(10000, 3, 32, 32).transpose(0,2,3,1).astype(\"float\")\n",
      "    Y = np.array(Y)\n",
      "    return X, Y\n",
      "\n",
      "def load_CIFAR10(ROOT):\n",
      "  \"\"\" load all of cifar \"\"\"\n",
      "  xs = []\n",
      "  ys = []\n",
      "  for b in range(1,6):\n",
      "    f = os.path.join(ROOT, 'data_batch_{}'.format(str(b)))\n",
      "    #print(f)\n",
      "    X, Y = load_CIFAR_batch(f)\n",
      "    xs.append(X)\n",
      "    ys.append(Y)    \n",
      "  Xtr = np.concatenate(xs)\n",
      "  Ytr = np.concatenate(ys)\n",
      "  del X, Y\n",
      "  Xte, Yte = load_CIFAR_batch(os.path.join(ROOT, 'test_batch'))\n",
      "  return Xtr, Ytr, Xte, Yte"
     ],
     "language": "python",
     "metadata": {},
     "outputs": [],
     "prompt_number": 2
    },
    {
     "cell_type": "code",
     "collapsed": false,
     "input": [
      "cifar10_dir = 'datasets/cifar-10-batches-py'\n",
      "X_train,y_train,X_test,y_test = load_CIFAR10(cifar10_dir)\n",
      "print(X_train.shape)\n",
      "print(y_train.shape)\n",
      "print(X_test.shape)\n",
      "print(y_test.shape)\n",
      "X_train /= 255.\n",
      "X_test /= 255."
     ],
     "language": "python",
     "metadata": {},
     "outputs": [
      {
       "output_type": "stream",
       "stream": "stdout",
       "text": [
        "(50000, 32, 32, 3)\n",
        "(50000,)\n",
        "(10000, 32, 32, 3)\n",
        "(10000,)\n"
       ]
      }
     ],
     "prompt_number": 3
    },
    {
     "cell_type": "code",
     "collapsed": false,
     "input": [
      "#\u5c06label\u8f6c\u6210one-hot vector\n",
      "def one_hot(input_labes):\n",
      "    out_labels=[]\n",
      "    for i in range(len(input_labes)):\n",
      "        label = 10*[0]\n",
      "        label[input_labes[i]]=1\n",
      "        out_labels.append(label)\n",
      "    return np.array(out_labels)\n",
      "y_train_onehot = one_hot(y_train)\n",
      "y_test_onehot = one_hot(y_test)"
     ],
     "language": "python",
     "metadata": {},
     "outputs": [],
     "prompt_number": 4
    },
    {
     "cell_type": "code",
     "collapsed": false,
     "input": [
      "W1 = tf.Variable(tf.truncated_normal(shape=[3,3,3,6],stddev=0.1))\n",
      "b1 = tf.Variable(tf.constant(0.1,shape=[6]))\n",
      "\n",
      "W2 = tf.Variable(tf.truncated_normal(shape=[5,5,6,16],stddev=0.1))\n",
      "b2 = tf.Variable(tf.constant(0.1,shape=[16]))\n",
      "\n",
      "W3 = tf.Variable(tf.truncated_normal([400,120],stddev=0.1))\n",
      "b3 = tf.Variable(tf.constant(0.1,shape=[120]))\n",
      "\n",
      "W4 = tf.Variable(tf.truncated_normal([120,84],stddev=0.1))\n",
      "b4 = tf.Variable(tf.constant(0.1,shape=[84]))\n",
      "\n",
      "W5 = tf.Variable(tf.truncated_normal([84,10],stddev=0.1))\n",
      "b5 = tf.Variable(tf.constant(0.1,shape=[10]))\n",
      "\n",
      "X_input = tf.placeholder(tf.float32,shape=[None,32,32,3])\n",
      "y_label = tf.placeholder(tf.float32,shape=[None,10])"
     ],
     "language": "python",
     "metadata": {},
     "outputs": [],
     "prompt_number": 6
    },
    {
     "cell_type": "code",
     "collapsed": false,
     "input": [
      "\n",
      "#\u7b2c\u4e00\u4e2a\u5377\u79ef\n",
      "conv1 = tf.nn.conv2d(X_input,W1,strides=[1,1,1,1],padding='VALID')+b1\n",
      "layer1 = tf.nn.relu(conv1)\n",
      "layer1 = tf.nn.max_pool(layer1,ksize=[1,2,2,1],strides=[1,2,2,1],padding='VALID')\n",
      "\n",
      "#\u7b2c\u4e8c\u4e2a\u5377\u79ef\n",
      "conv2 = tf.nn.conv2d(layer1,W2,strides=[1,1,1,1],padding='VALID')+b2\n",
      "layer2 = tf.nn.relu(conv2)\n",
      "layer2 = tf.nn.max_pool(layer2,ksize=[1,2,2,1],strides=[1,2,2,1],padding='VALID')\n",
      "\n",
      "#\u62c9\u4f38\n",
      "layer2_shape = layer2.get_shape().as_list()\n",
      "nodes = layer2_shape[1] * layer2_shape[2] * layer2_shape[3]\n",
      "layer2 = tf.reshape(layer2,[-1,nodes])\n",
      "\n",
      "#\u7b2c\u4e00\u4e2a\u5168\u8fde\u63a5\u5c42\n",
      "fc1 = tf.nn.relu(tf.matmul(layer2,W3)+b3)\n",
      "\n",
      "#\u7b2c\u4e8c\u4e2a\u5168\u8fde\u63a5\u5c42\n",
      "fc2 = tf.nn.relu(tf.matmul(fc1,W4)+b4)\n",
      "\n",
      "#\u7b2c\u4e09\u4e2a\u5168\u8fde\u63a5\u5c42\n",
      "fc3 = tf.nn.relu(tf.matmul(fc2,W5)+b5)\n",
      "\n",
      "y_output = tf.nn.softmax(fc3)\n",
      "\n",
      "\n",
      "loss = -tf.reduce_mean(tf.reduce_sum(y_label*tf.log(tf.clip_by_value(y_output,1e-7,10)),reduction_indices=[1]))\n",
      "\n",
      "train_step = tf.train.GradientDescentOptimizer(0.5).minimize(loss)\n",
      "\n",
      "accuracy = tf.reduce_mean(tf.cast(tf.equal(tf.argmax(y_label,1),tf.argmax(y_output,1)),tf.float32))\n"
     ],
     "language": "python",
     "metadata": {},
     "outputs": [],
     "prompt_number": 34
    },
    {
     "cell_type": "code",
     "collapsed": false,
     "input": [
      "batchsize = 500\n",
      "max_iter = 50000\n",
      "init = tf.global_variables_initializer()\n",
      "\n",
      "idx = []\n",
      "train_loss = []\n",
      "train_accuracy = []\n",
      "\n",
      "with tf.Session() as sess:\n",
      "    sess.run(init)\n",
      "    for i in range(max_iter):\n",
      "        mask = np.random.choice(X_train.shape[0],batchsize,replace=False)\n",
      "    \n",
      "        batch_x = X_train[mask]\n",
      "        batch_y = y_train_onehot[mask]\n",
      "        feed_dict={X_input:batch_x,y_label:batch_y}    \n",
      "        [_,temp_loss,temp_accuracy] = sess.run([train_step,loss,accuracy],feed_dict=feed_dict)\n",
      "        if i % 1000 == 0:\n",
      "            idx.append(i)\n",
      "            train_loss.append(temp_loss)\n",
      "            train_accuracy.append(temp_accuracy)\n",
      "            print('step at #{},'.format(i),end=' ')\n",
      "            print('train loss: {:.5f}'.format(temp_loss),end=' ')\n",
      "            print('train accuracy: {:.2f}%'.format(temp_accuracy*100))\n",
      "    print('test accuracy is: {:.2f}'.format(100*sess.run(accuracy,feed_dict={X_input:X_test,y_label:y_test_onehot})))"
     ],
     "language": "python",
     "metadata": {},
     "outputs": [
      {
       "output_type": "stream",
       "stream": "stdout",
       "text": [
        "step at #0, train loss: 2.32402 train accuracy: 10.20%\n",
        "step at #1000,"
       ]
      },
      {
       "output_type": "stream",
       "stream": "stdout",
       "text": [
        " train loss: 1.87751 train accuracy: 35.00%\n",
        "step at #2000,"
       ]
      },
      {
       "output_type": "stream",
       "stream": "stdout",
       "text": [
        " train loss: 1.65117 train accuracy: 46.60%\n",
        "step at #3000,"
       ]
      },
      {
       "output_type": "stream",
       "stream": "stdout",
       "text": [
        " train loss: 1.37082 train accuracy: 55.60%\n",
        "step at #4000,"
       ]
      },
      {
       "output_type": "stream",
       "stream": "stdout",
       "text": [
        " train loss: 1.31405 train accuracy: 58.00%\n",
        "step at #5000,"
       ]
      },
      {
       "output_type": "stream",
       "stream": "stdout",
       "text": [
        " train loss: 0.95420 train accuracy: 67.00%\n",
        "step at #6000,"
       ]
      },
      {
       "output_type": "stream",
       "stream": "stdout",
       "text": [
        " train loss: 0.70336 train accuracy: 74.20%\n",
        "step at #7000,"
       ]
      },
      {
       "output_type": "stream",
       "stream": "stdout",
       "text": [
        " train loss: 0.73111 train accuracy: 75.60%\n",
        "step at #8000,"
       ]
      },
      {
       "output_type": "stream",
       "stream": "stdout",
       "text": [
        " train loss: 0.69165 train accuracy: 77.40%\n",
        "step at #9000,"
       ]
      },
      {
       "output_type": "stream",
       "stream": "stdout",
       "text": [
        " train loss: 0.81522 train accuracy: 75.00%\n",
        "step at #10000,"
       ]
      },
      {
       "output_type": "stream",
       "stream": "stdout",
       "text": [
        " train loss: 0.53284 train accuracy: 83.20%\n",
        "step at #11000,"
       ]
      },
      {
       "output_type": "stream",
       "stream": "stdout",
       "text": [
        " train loss: 0.52836 train accuracy: 82.00%\n",
        "step at #12000,"
       ]
      },
      {
       "output_type": "stream",
       "stream": "stdout",
       "text": [
        " train loss: 0.48629 train accuracy: 82.80%\n",
        "step at #13000,"
       ]
      },
      {
       "output_type": "stream",
       "stream": "stdout",
       "text": [
        " train loss: 0.67045 train accuracy: 75.80%\n",
        "step at #14000,"
       ]
      },
      {
       "output_type": "stream",
       "stream": "stdout",
       "text": [
        " train loss: 0.99257 train accuracy: 71.60%\n",
        "step at #15000,"
       ]
      },
      {
       "output_type": "stream",
       "stream": "stdout",
       "text": [
        " train loss: 0.53639 train accuracy: 80.00%\n",
        "step at #16000,"
       ]
      },
      {
       "output_type": "stream",
       "stream": "stdout",
       "text": [
        " train loss: 0.71668 train accuracy: 76.40%\n",
        "step at #17000,"
       ]
      },
      {
       "output_type": "stream",
       "stream": "stdout",
       "text": [
        " train loss: 0.41187 train accuracy: 86.80%\n",
        "step at #18000,"
       ]
      },
      {
       "output_type": "stream",
       "stream": "stdout",
       "text": [
        " train loss: 0.53682 train accuracy: 82.60%\n",
        "step at #19000,"
       ]
      },
      {
       "output_type": "stream",
       "stream": "stdout",
       "text": [
        " train loss: 0.44348 train accuracy: 84.40%\n",
        "step at #20000,"
       ]
      },
      {
       "output_type": "stream",
       "stream": "stdout",
       "text": [
        " train loss: 0.76014 train accuracy: 77.40%\n",
        "step at #21000,"
       ]
      },
      {
       "output_type": "stream",
       "stream": "stdout",
       "text": [
        " train loss: 0.46601 train accuracy: 82.80%\n",
        "step at #22000,"
       ]
      },
      {
       "output_type": "stream",
       "stream": "stdout",
       "text": [
        " train loss: 0.87865 train accuracy: 72.00%\n",
        "step at #23000,"
       ]
      },
      {
       "output_type": "stream",
       "stream": "stdout",
       "text": [
        " train loss: 0.37960 train accuracy: 87.40%\n",
        "step at #24000,"
       ]
      },
      {
       "output_type": "stream",
       "stream": "stdout",
       "text": [
        " train loss: 0.57092 train accuracy: 82.20%\n",
        "step at #25000,"
       ]
      },
      {
       "output_type": "stream",
       "stream": "stdout",
       "text": [
        " train loss: 0.37958 train accuracy: 88.80%\n",
        "step at #26000,"
       ]
      },
      {
       "output_type": "stream",
       "stream": "stdout",
       "text": [
        " train loss: 0.46324 train accuracy: 84.00%\n",
        "step at #27000,"
       ]
      },
      {
       "output_type": "stream",
       "stream": "stdout",
       "text": [
        " train loss: 0.61188 train accuracy: 78.60%\n",
        "step at #28000,"
       ]
      },
      {
       "output_type": "stream",
       "stream": "stdout",
       "text": [
        " train loss: 0.45416 train accuracy: 84.80%\n",
        "step at #29000,"
       ]
      },
      {
       "output_type": "stream",
       "stream": "stdout",
       "text": [
        " train loss: 0.38024 train accuracy: 87.60%\n",
        "step at #30000,"
       ]
      },
      {
       "output_type": "stream",
       "stream": "stdout",
       "text": [
        " train loss: 0.79658 train accuracy: 79.40%\n",
        "step at #31000,"
       ]
      },
      {
       "output_type": "stream",
       "stream": "stdout",
       "text": [
        " train loss: 0.73092 train accuracy: 78.60%\n",
        "step at #32000,"
       ]
      },
      {
       "output_type": "stream",
       "stream": "stdout",
       "text": [
        " train loss: 0.38507 train accuracy: 87.80%\n",
        "step at #33000,"
       ]
      },
      {
       "output_type": "stream",
       "stream": "stdout",
       "text": [
        " train loss: 0.54068 train accuracy: 83.00%\n",
        "step at #34000,"
       ]
      },
      {
       "output_type": "stream",
       "stream": "stdout",
       "text": [
        " train loss: 0.56442 train accuracy: 81.60%\n",
        "step at #35000,"
       ]
      },
      {
       "output_type": "stream",
       "stream": "stdout",
       "text": [
        " train loss: 0.57244 train accuracy: 82.80%\n",
        "step at #36000,"
       ]
      },
      {
       "output_type": "stream",
       "stream": "stdout",
       "text": [
        " train loss: 0.66672 train accuracy: 80.60%\n",
        "step at #37000,"
       ]
      },
      {
       "output_type": "stream",
       "stream": "stdout",
       "text": [
        " train loss: 0.83969 train accuracy: 75.60%\n",
        "step at #38000,"
       ]
      },
      {
       "output_type": "stream",
       "stream": "stdout",
       "text": [
        " train loss: 0.41902 train accuracy: 86.60%\n",
        "step at #39000,"
       ]
      },
      {
       "output_type": "stream",
       "stream": "stdout",
       "text": [
        " train loss: 0.50312 train accuracy: 84.20%\n",
        "step at #40000,"
       ]
      },
      {
       "output_type": "stream",
       "stream": "stdout",
       "text": [
        " train loss: 0.50231 train accuracy: 83.40%\n",
        "step at #41000,"
       ]
      },
      {
       "output_type": "stream",
       "stream": "stdout",
       "text": [
        " train loss: 0.65854 train accuracy: 81.40%\n",
        "step at #42000,"
       ]
      },
      {
       "output_type": "stream",
       "stream": "stdout",
       "text": [
        " train loss: 0.39390 train accuracy: 87.40%\n",
        "step at #43000,"
       ]
      },
      {
       "output_type": "stream",
       "stream": "stdout",
       "text": [
        " train loss: 0.52839 train accuracy: 82.80%\n",
        "step at #44000,"
       ]
      },
      {
       "output_type": "stream",
       "stream": "stdout",
       "text": [
        " train loss: 0.48640 train accuracy: 86.60%\n",
        "step at #45000,"
       ]
      },
      {
       "output_type": "stream",
       "stream": "stdout",
       "text": [
        " train loss: 0.51058 train accuracy: 84.00%\n",
        "step at #46000,"
       ]
      },
      {
       "output_type": "stream",
       "stream": "stdout",
       "text": [
        " train loss: 0.55973 train accuracy: 85.40%\n",
        "step at #47000,"
       ]
      },
      {
       "output_type": "stream",
       "stream": "stdout",
       "text": [
        " train loss: 0.70024 train accuracy: 80.80%\n",
        "step at #48000,"
       ]
      },
      {
       "output_type": "stream",
       "stream": "stdout",
       "text": [
        " train loss: 0.38646 train accuracy: 88.00%\n",
        "step at #49000,"
       ]
      },
      {
       "output_type": "stream",
       "stream": "stdout",
       "text": [
        " train loss: 0.49099 train accuracy: 87.00%\n",
        "test accuracy is: 46.86"
       ]
      },
      {
       "output_type": "stream",
       "stream": "stdout",
       "text": [
        "\n"
       ]
      }
     ],
     "prompt_number": 36
    },
    {
     "cell_type": "code",
     "collapsed": false,
     "input": [
      "fig, ax1 = plt.subplots()\n",
      "ax2 = ax1.twinx()\n",
      "ax1.plot(idx,train_loss,'r-')\n",
      "ax2.plot(idx,train_accuracy)\n",
      "ax1.set_xlabel('Iteration')\n",
      "ax1.set_ylabel('loss')\n",
      "ax2.set_ylabel('accuracy')\n",
      "plt.title('train cifar10 with lenet-5')"
     ],
     "language": "python",
     "metadata": {},
     "outputs": [
      {
       "metadata": {},
       "output_type": "pyout",
       "prompt_number": 37,
       "text": [
        "Text(0.5,1,'train cifar10 with lenet-5')"
       ]
      },
      {
       "metadata": {},
       "output_type": "display_data",
       "png": "[encoded data removed]",
       "text": [
        "<matplotlib.figure.Figure at 0x7f16ac6c6080>"
       ]
      }
     ],
     "prompt_number": 37
    },
    {
     "cell_type": "code",
     "collapsed": false,
     "input": [],
     "language": "python",
     "metadata": {},
     "outputs": []
    }
   ],
   "metadata": {}
  }
 ]
}